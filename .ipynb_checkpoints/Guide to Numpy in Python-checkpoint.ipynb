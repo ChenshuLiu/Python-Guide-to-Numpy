{
 "cells": [
  {
   "cell_type": "markdown",
   "id": "43e91c3a",
   "metadata": {},
   "source": [
    "# Numpy in Python\n",
    "#### by: Chenshu Liu"
   ]
  },
  {
   "cell_type": "markdown",
   "id": "ea8b5204",
   "metadata": {},
   "source": [
    "Numpy is a multidimensional array. The main difference between list and numpy is **running speed**:\n",
    "* Because Numpy uses fixed type during computation, Numpy takes much less memory space than list\n",
    "* Numpy is faster because of contiguous memory"
   ]
  },
  {
   "cell_type": "code",
   "execution_count": 1,
   "id": "e7309271",
   "metadata": {},
   "outputs": [],
   "source": [
    "import numpy as np\n",
    "import sys"
   ]
  },
  {
   "cell_type": "markdown",
   "id": "3e745e09",
   "metadata": {},
   "source": [
    "## The Basics"
   ]
  },
  {
   "cell_type": "code",
   "execution_count": 14,
   "id": "2a93112e",
   "metadata": {},
   "outputs": [
    {
     "name": "stdout",
     "output_type": "stream",
     "text": [
      "[1 2 3]\n",
      "[[9. 8. 7.]\n",
      " [6. 5. 4.]]\n",
      "the dimension of a is 1\n",
      "the shape of b is (2, 3)\n",
      "the data type of a is int32\n",
      "each element in a takes 4 bytes memory\n",
      "the memory taken by a is 12\n"
     ]
    }
   ],
   "source": [
    "# initializing an array\n",
    "a = np.array([1, 2, 3], dtype = \"int32\")\n",
    "print(a)\n",
    "\n",
    "# array with higher dimensions (2D)\n",
    "b = np.array([[9.0, 8.0, 7.0], [6.0, 5.0, 4.0]])\n",
    "print(b)\n",
    "\n",
    "# get the dimension of the array\n",
    "print(f\"the dimension of a is {a.ndim}\")\n",
    "print(f\"the shape of b is {b.shape}\")\n",
    "\n",
    "# check data type\n",
    "print(f\"the data type of a is {a.dtype}\")\n",
    "\n",
    "# check amount of memory taken by numpy array\n",
    "# check memory taken by each element\n",
    "print(f\"each element in a takes {a.itemsize} bytes memory\")\n",
    "# check overall memory of array\n",
    "print(f\"the memory taken by a is {a.nbytes}\")"
   ]
  },
  {
   "cell_type": "markdown",
   "id": "df057d92",
   "metadata": {},
   "source": [
    "## Accessing/Changing Specific Elements, Rows, Columns, etc."
   ]
  },
  {
   "cell_type": "code",
   "execution_count": 25,
   "id": "6b5b9004",
   "metadata": {},
   "outputs": [
    {
     "name": "stdout",
     "output_type": "stream",
     "text": [
      "[[ 1  2  3  4  5  6  7]\n",
      " [ 8  9 10 11 12 13 14]]\n",
      "13\n",
      "13\n",
      "[1 2 3 4 5 6 7]\n",
      "[2 4 6]\n",
      "[[ 1  2  3  4  5  6  7]\n",
      " [ 8  9 10 11 12 30 14]]\n"
     ]
    }
   ],
   "source": [
    "a = np.array([[1, 2, 3, 4, 5, 6, 7], [8, 9, 10, 11, 12, 13, 14]])\n",
    "print(a)\n",
    "# extract certain element (using format [r.index, c.index])\n",
    "print(a[1, 5])\n",
    "print(a[1, -2]) # negative index means second last column\n",
    "\n",
    "# extract specific row\n",
    "print(a[0, :])\n",
    "\n",
    "# indexing & slicing [start.index : end.index : step]\n",
    "print(a[0, 1:6:2])\n",
    "\n",
    "# change certain entry in numpy array\n",
    "a[1, 5] = 30\n",
    "print(a)"
   ]
  },
  {
   "cell_type": "code",
   "execution_count": null,
   "id": "e6f8098a",
   "metadata": {},
   "outputs": [],
   "source": []
  },
  {
   "cell_type": "code",
   "execution_count": null,
   "id": "40f3e904",
   "metadata": {},
   "outputs": [],
   "source": []
  },
  {
   "cell_type": "code",
   "execution_count": null,
   "id": "75512126",
   "metadata": {},
   "outputs": [],
   "source": []
  },
  {
   "cell_type": "code",
   "execution_count": null,
   "id": "df515d91",
   "metadata": {},
   "outputs": [],
   "source": []
  },
  {
   "cell_type": "code",
   "execution_count": null,
   "id": "68b437d5",
   "metadata": {},
   "outputs": [],
   "source": []
  },
  {
   "cell_type": "code",
   "execution_count": null,
   "id": "7b89d87b",
   "metadata": {},
   "outputs": [],
   "source": []
  },
  {
   "cell_type": "code",
   "execution_count": null,
   "id": "a64e3781",
   "metadata": {},
   "outputs": [],
   "source": []
  },
  {
   "cell_type": "code",
   "execution_count": null,
   "id": "7ce12fcb",
   "metadata": {},
   "outputs": [],
   "source": []
  }
 ],
 "metadata": {
  "kernelspec": {
   "display_name": "Python 3",
   "language": "python",
   "name": "python3"
  },
  "language_info": {
   "codemirror_mode": {
    "name": "ipython",
    "version": 3
   },
   "file_extension": ".py",
   "mimetype": "text/x-python",
   "name": "python",
   "nbconvert_exporter": "python",
   "pygments_lexer": "ipython3",
   "version": "3.8.8"
  }
 },
 "nbformat": 4,
 "nbformat_minor": 5
}

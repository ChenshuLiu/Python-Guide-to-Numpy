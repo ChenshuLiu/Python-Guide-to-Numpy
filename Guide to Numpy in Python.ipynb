{
 "cells": [
  {
   "cell_type": "markdown",
   "id": "fe6032d7",
   "metadata": {},
   "source": [
    "# Numpy in Python\n",
    "#### by: Chenshu Liu"
   ]
  },
  {
   "cell_type": "markdown",
   "id": "a04ccb43",
   "metadata": {},
   "source": [
    "Numpy is a multidimensional array. The main difference between list and numpy is **running speed**:\n",
    "* Because Numpy uses fixed type during computation, Numpy takes much less memory space than list\n",
    "* Numpy is faster because of contiguous memory"
   ]
  },
  {
   "cell_type": "code",
   "execution_count": 1,
   "id": "127cf3ac",
   "metadata": {},
   "outputs": [],
   "source": [
    "import numpy as np\n",
    "import sys"
   ]
  },
  {
   "cell_type": "markdown",
   "id": "e9e52777",
   "metadata": {},
   "source": [
    "## The Basics"
   ]
  },
  {
   "cell_type": "code",
   "execution_count": 14,
   "id": "eb7349d2",
   "metadata": {},
   "outputs": [
    {
     "name": "stdout",
     "output_type": "stream",
     "text": [
      "[1 2 3]\n",
      "[[9. 8. 7.]\n",
      " [6. 5. 4.]]\n",
      "the dimension of a is 1\n",
      "the shape of b is (2, 3)\n",
      "the data type of a is int32\n",
      "each element in a takes 4 bytes memory\n",
      "the memory taken by a is 12\n"
     ]
    }
   ],
   "source": [
    "# initializing an array\n",
    "a = np.array([1, 2, 3], dtype = \"int32\")\n",
    "print(a)\n",
    "\n",
    "# array with higher dimensions (2D)\n",
    "b = np.array([[9.0, 8.0, 7.0], [6.0, 5.0, 4.0]])\n",
    "print(b)\n",
    "\n",
    "# get the dimension of the array\n",
    "print(f\"the dimension of a is {a.ndim}\")\n",
    "print(f\"the shape of b is {b.shape}\")\n",
    "\n",
    "# check data type\n",
    "print(f\"the data type of a is {a.dtype}\")\n",
    "\n",
    "# check amount of memory taken by numpy array\n",
    "# check memory taken by each element\n",
    "print(f\"each element in a takes {a.itemsize} bytes memory\")\n",
    "# check overall memory of array\n",
    "print(f\"the memory taken by a is {a.nbytes}\")"
   ]
  },
  {
   "cell_type": "markdown",
   "id": "1f3e2db0",
   "metadata": {},
   "source": [
    "## Accessing/Changing Specific Elements, Rows, Columns, etc."
   ]
  },
  {
   "cell_type": "code",
   "execution_count": 25,
   "id": "668fb735",
   "metadata": {},
   "outputs": [
    {
     "name": "stdout",
     "output_type": "stream",
     "text": [
      "[[ 1  2  3  4  5  6  7]\n",
      " [ 8  9 10 11 12 13 14]]\n",
      "13\n",
      "13\n",
      "[1 2 3 4 5 6 7]\n",
      "[2 4 6]\n",
      "[[ 1  2  3  4  5  6  7]\n",
      " [ 8  9 10 11 12 30 14]]\n"
     ]
    }
   ],
   "source": [
    "a = np.array([[1, 2, 3, 4, 5, 6, 7], [8, 9, 10, 11, 12, 13, 14]])\n",
    "print(a)\n",
    "# extract certain element (using format [r.index, c.index])\n",
    "print(a[1, 5])\n",
    "print(a[1, -2]) # negative index means second last column\n",
    "\n",
    "# extract specific row\n",
    "print(a[0, :])\n",
    "\n",
    "# indexing & slicing [start.index : end.index : step]\n",
    "print(a[0, 1:6:2])\n",
    "\n",
    "# change certain entry in numpy array\n",
    "a[1, 5] = 30\n",
    "print(a)"
   ]
  },
  {
   "cell_type": "markdown",
   "id": "6b53c240",
   "metadata": {},
   "source": [
    "## Initialize Different Types of Arrays"
   ]
  },
  {
   "cell_type": "code",
   "execution_count": 77,
   "id": "229b5e2d",
   "metadata": {},
   "outputs": [
    {
     "name": "stdout",
     "output_type": "stream",
     "text": [
      "[0. 0. 0. 0. 0.]\n",
      "[[0. 0. 0.]\n",
      " [0. 0. 0.]]\n",
      "[[1 1 1]\n",
      " [1 1 1]\n",
      " [1 1 1]]\n",
      "[[100. 100.]\n",
      " [100. 100.]]\n",
      "[[4 4 4 4 4 4 4]\n",
      " [4 4 4 4 4 4 4]]\n",
      "[[0.88098482 0.08714556]\n",
      " [0.64077729 0.85997548]\n",
      " [0.76456682 0.00542773]\n",
      " [0.50352566 0.28197622]]\n",
      "[[0.81653761 0.34195458 0.68310068 0.99880085 0.60627589 0.35526434\n",
      "  0.88069577]\n",
      " [0.48636466 0.34672461 0.06533159 0.40235695 0.45879372 0.96663498\n",
      "  0.84057163]]\n",
      "[[5 5 4]\n",
      " [5 5 6]\n",
      " [5 5 5]]\n",
      "[1 1 1 1 2]\n",
      "[[1 0 0]\n",
      " [0 1 0]\n",
      " [0 0 1]]\n",
      "[[1 2 3]\n",
      " [1 2 3]\n",
      " [1 2 3]]\n",
      "[[1 1 1 2 2 2 3 3 3]]\n"
     ]
    }
   ],
   "source": [
    "# All 0's array\n",
    "print(np.zeros(5))\n",
    "print(np.zeros([2, 3]))\n",
    "\n",
    "# All 1's array\n",
    "print(np.ones([3, 3], dtype = \"int32\"))\n",
    "\n",
    "# All the same random number\n",
    "print(np.full([2, 2], 100, dtype = \"float32\"))\n",
    "\n",
    "# Creating an array of same random numbers with same dimension as another array\n",
    "a = np.array([[1, 2, 3, 4, 5, 6, 7], [8, 9, 10, 11, 12, 13, 14]])\n",
    "print(np.full_like(a, 4))\n",
    "\n",
    "# Random number generation\n",
    "print(np.random.rand(4, 2))\n",
    "\n",
    "# Random number generation according to preexisting array's dimension\n",
    "print(np.random.random_sample(a.shape))\n",
    "\n",
    "# Random integer values\n",
    "print(np.random.randint(4,7, size = (3, 3)))\n",
    "\n",
    "# Random number generation from an array of numbers\n",
    "print(np.random.choice(a = [1, 2, 3], \n",
    "                       size = 5, \n",
    "                       replace = True, \n",
    "                       p = (0.5, 0.2, 0.3)))\n",
    "\n",
    "# Identity matrix\n",
    "print(np.identity(3, dtype = \"int32\"))\n",
    "\n",
    "# Repeat\n",
    "arr = np.array([[1, 2, 3]])\n",
    "r1 = np.repeat(arr, 3, axis = 0)\n",
    "r2 = np.repeat(arr, 3, axis = 1)\n",
    "print(r1)\n",
    "print(r2)"
   ]
  },
  {
   "cell_type": "markdown",
   "id": "483989e9",
   "metadata": {},
   "source": [
    "## Be Careful When Copying"
   ]
  },
  {
   "cell_type": "code",
   "execution_count": 66,
   "id": "9bfab788",
   "metadata": {
    "scrolled": true
   },
   "outputs": [
    {
     "name": "stdout",
     "output_type": "stream",
     "text": [
      "[1 2 3]\n",
      "[10  2  3]\n"
     ]
    }
   ],
   "source": [
    "a = np.array([1, 2, 3])\n",
    "b = a.copy()\n",
    "b[0] = 10\n",
    "print(a)\n",
    "print(b)"
   ]
  },
  {
   "cell_type": "markdown",
   "id": "601ae256",
   "metadata": {},
   "source": [
    "## Basic Arithmetic\n",
    "Numpy arrays are vectorized, so arithmetic operations can be applied to each element in the array (element-wise operation)"
   ]
  },
  {
   "cell_type": "code",
   "execution_count": 67,
   "id": "b5ad3a33",
   "metadata": {},
   "outputs": [
    {
     "name": "stdout",
     "output_type": "stream",
     "text": [
      "[3 4 5 6]\n",
      "[ 1  4  9 16]\n",
      "[1 3 3 5]\n"
     ]
    }
   ],
   "source": [
    "a = np.array([1, 2, 3, 4])\n",
    "b = np.array([0, 1, 0, 1])\n",
    "print(a + 2)\n",
    "print(a ** 2)\n",
    "print(a + b)"
   ]
  },
  {
   "cell_type": "markdown",
   "id": "a4b0e4ef",
   "metadata": {},
   "source": [
    "## Linear Algebra Using Numpy"
   ]
  },
  {
   "cell_type": "code",
   "execution_count": 80,
   "id": "77c6590c",
   "metadata": {},
   "outputs": [
    {
     "name": "stdout",
     "output_type": "stream",
     "text": [
      "[[6. 6.]\n",
      " [6. 6.]]\n",
      "1.0\n"
     ]
    }
   ],
   "source": [
    "a = np.ones((2, 3))\n",
    "b = np.full((3, 2), 2)\n",
    "# Matrix multiplication\n",
    "prod = np.matmul(a, b)\n",
    "print(prod)\n",
    "\n",
    "# Find the determinant\n",
    "c = np.identity(3)\n",
    "print(np.linalg.det(c))"
   ]
  },
  {
   "cell_type": "markdown",
   "id": "2e5fb922",
   "metadata": {},
   "source": [
    "## Statistics"
   ]
  },
  {
   "cell_type": "code",
   "execution_count": 84,
   "id": "2d2e8108",
   "metadata": {},
   "outputs": [
    {
     "name": "stdout",
     "output_type": "stream",
     "text": [
      "1\n",
      "6\n",
      "[1 4]\n",
      "[5 7 9]\n",
      "[1 4]\n"
     ]
    }
   ],
   "source": [
    "stats = np.array([[1, 2, 3], [4, 5, 6]])\n",
    "print(np.min(stats))\n",
    "print(np.max(stats))\n",
    "print(np.min(stats, axis = 1)) # find minimum by row\n",
    "print(np.sum(stats, axis = 0)) # find sum by column"
   ]
  },
  {
   "cell_type": "markdown",
   "id": "bc998a52",
   "metadata": {},
   "source": [
    "## Reorganizing Arrays"
   ]
  },
  {
   "cell_type": "code",
   "execution_count": 90,
   "id": "81fc2d58",
   "metadata": {},
   "outputs": [
    {
     "name": "stdout",
     "output_type": "stream",
     "text": [
      "[[1 2]\n",
      " [3 4]\n",
      " [5 6]\n",
      " [7 8]]\n",
      "[[[1 2]\n",
      "  [3 4]]\n",
      "\n",
      " [[5 6]\n",
      "  [7 8]]]\n",
      "[[1 2 3 4]\n",
      " [5 6 7 8]\n",
      " [5 6 7 8]]\n",
      "[1 2 3 4 5 6 7 8]\n"
     ]
    }
   ],
   "source": [
    "before = np.array([[1, 2, 3, 4], [5, 6, 7, 8]])\n",
    "# current 2D array has shape 2 by 4\n",
    "# reshape to 2D array with shape 4 by 2\n",
    "after = before.reshape((4, 2))\n",
    "print(after)\n",
    "# can also reshape to 3D array, as long as contain the same number of values\n",
    "after = before.reshape((2, 2, 2))\n",
    "print(after)\n",
    "\n",
    "# vertical stack\n",
    "v1 = np.array([1, 2, 3, 4])\n",
    "v2 = np.array([5, 6, 7, 8])\n",
    "print(np.vstack([v1, v2, v2]))\n",
    "\n",
    "# horizontal stack\n",
    "print(np.hstack([v1, v2]))"
   ]
  }
 ],
 "metadata": {
  "kernelspec": {
   "display_name": "Python 3",
   "language": "python",
   "name": "python3"
  },
  "language_info": {
   "codemirror_mode": {
    "name": "ipython",
    "version": 3
   },
   "file_extension": ".py",
   "mimetype": "text/x-python",
   "name": "python",
   "nbconvert_exporter": "python",
   "pygments_lexer": "ipython3",
   "version": "3.8.8"
  }
 },
 "nbformat": 4,
 "nbformat_minor": 5
}
